{
    "nbformat_minor": 1, 
    "cells": [
        {
            "source": "## Model Definition Notebook", 
            "cell_type": "markdown", 
            "metadata": {}
        }, 
        {
            "source": "### Imports", 
            "cell_type": "markdown", 
            "metadata": {}
        }, 
        {
            "execution_count": 74, 
            "cell_type": "code", 
            "metadata": {}, 
            "outputs": [], 
            "source": "import random\nimport types\nimport re\nimport gc\n\nfrom botocore.client import Config\nimport ibm_boto3\nimport numpy as np\nfrom sklearn.model_selection import GroupShuffleSplit, GroupKFold\nfrom sklearn.ensemble import RandomForestRegressor\nfrom sklearn.linear_model import LinearRegression, Ridge, RidgeCV\nfrom sklearn.metrics import mean_squared_error\nfrom sklearn.preprocessing import OneHotEncoder\nimport pandas as pd\nimport pickle\nfrom matplotlib import pyplot as plt\n\nimport warnings\nwarnings.filterwarnings('ignore')\n\n%matplotlib inline"
        }, 
        {
            "source": "### Load and read data", 
            "cell_type": "markdown", 
            "metadata": {}
        }, 
        {
            "execution_count": 75, 
            "cell_type": "code", 
            "metadata": {}, 
            "outputs": [], 
            "source": "# The code was removed by Watson Studio for sharing."
        }, 
        {
            "execution_count": 76, 
            "cell_type": "code", 
            "metadata": {}, 
            "outputs": [], 
            "source": "def download_file_cos(credentials, local_file_name, key):  \n    cos = ibm_boto3.client(service_name='s3',\n    ibm_api_key_id=credentials['IBM_API_KEY_ID'],\n    ibm_service_instance_id=credentials['IAM_SERVICE_ID'],\n    ibm_auth_endpoint=credentials['IBM_AUTH_ENDPOINT'],\n    config=Config(signature_version='oauth'),\n    endpoint_url=credentials['ENDPOINT'])\n    try:\n        res=cos.download_file(Bucket=credentials['BUCKET'], Key=key, Filename=local_file_name)\n    except Exception as e:\n        print(Exception, e)\n    else:\n        print('File Downloaded')"
        }, 
        {
            "execution_count": 77, 
            "cell_type": "code", 
            "metadata": {}, 
            "outputs": [
                {
                    "output_type": "stream", 
                    "name": "stdout", 
                    "text": "File Downloaded\nFile Downloaded\n"
                }
            ], 
            "source": "# download data from cloud object storage\ndownload_file_cos(credentials=credentials, local_file_name='df_raw_pickle.pickle', key='df_processed_pickle.pickle')\ndownload_file_cos(credentials=credentials, local_file_name='dtypes_dict.pickle', key='dtypes_dict.pickle')"
        }, 
        {
            "execution_count": 78, 
            "cell_type": "code", 
            "metadata": {}, 
            "outputs": [], 
            "source": "# read downloaded data with pandas\ndf = pd.read_pickle('df_raw_pickle.pickle')\n\nwith open('dtypes_dict.pickle', 'rb') as pkl:\n    dtypes_dict = pickle.load(pkl)"
        }, 
        {
            "execution_count": 79, 
            "cell_type": "code", 
            "metadata": {}, 
            "outputs": [
                {
                    "execution_count": 79, 
                    "metadata": {}, 
                    "data": {
                        "text/html": "<div>\n<style scoped>\n    .dataframe tbody tr th:only-of-type {\n        vertical-align: middle;\n    }\n\n    .dataframe tbody tr th {\n        vertical-align: top;\n    }\n\n    .dataframe thead th {\n        text-align: right;\n    }\n</style>\n<table border=\"1\" class=\"dataframe\">\n  <thead>\n    <tr style=\"text-align: right;\">\n      <th></th>\n      <th>reservation_id</th>\n      <th>channel_code</th>\n      <th>main_product_code</th>\n      <th>numberofadults</th>\n      <th>numberofchildren</th>\n      <th>persontravellingid</th>\n      <th>resort_region_code</th>\n      <th>resort_type_code</th>\n      <th>room_type_booked_code</th>\n      <th>roomnights</th>\n      <th>...</th>\n      <th>booking_Dayofweek</th>\n      <th>booking_Dayofyear</th>\n      <th>booking_Is_month_end</th>\n      <th>booking_Is_month_start</th>\n      <th>booking_Is_quarter_end</th>\n      <th>booking_Is_quarter_start</th>\n      <th>booking_Is_year_end</th>\n      <th>booking_Is_year_start</th>\n      <th>booking_Elapsed</th>\n      <th>n_people</th>\n    </tr>\n  </thead>\n  <tbody>\n    <tr>\n      <th>0</th>\n      <td>9785</td>\n      <td>2</td>\n      <td>0</td>\n      <td>-0.726263</td>\n      <td>-0.478479</td>\n      <td>1</td>\n      <td>2</td>\n      <td>3</td>\n      <td>2</td>\n      <td>-1.104595</td>\n      <td>...</td>\n      <td>0.133690</td>\n      <td>-0.769077</td>\n      <td>0</td>\n      <td>0</td>\n      <td>0</td>\n      <td>0</td>\n      <td>0</td>\n      <td>0</td>\n      <td>1.069282</td>\n      <td>-0.871190</td>\n    </tr>\n    <tr>\n      <th>1</th>\n      <td>4694</td>\n      <td>0</td>\n      <td>0</td>\n      <td>-0.726263</td>\n      <td>-0.478479</td>\n      <td>1</td>\n      <td>2</td>\n      <td>3</td>\n      <td>3</td>\n      <td>0.508926</td>\n      <td>...</td>\n      <td>0.653670</td>\n      <td>-1.436825</td>\n      <td>0</td>\n      <td>0</td>\n      <td>0</td>\n      <td>0</td>\n      <td>0</td>\n      <td>0</td>\n      <td>-1.633200</td>\n      <td>-0.871190</td>\n    </tr>\n    <tr>\n      <th>2</th>\n      <td>278743</td>\n      <td>0</td>\n      <td>0</td>\n      <td>-0.726263</td>\n      <td>-0.478479</td>\n      <td>2</td>\n      <td>0</td>\n      <td>5</td>\n      <td>3</td>\n      <td>0.105546</td>\n      <td>...</td>\n      <td>-0.386290</td>\n      <td>-1.390453</td>\n      <td>0</td>\n      <td>0</td>\n      <td>0</td>\n      <td>0</td>\n      <td>0</td>\n      <td>0</td>\n      <td>-1.621631</td>\n      <td>-0.871190</td>\n    </tr>\n    <tr>\n      <th>3</th>\n      <td>276853</td>\n      <td>0</td>\n      <td>0</td>\n      <td>-0.726263</td>\n      <td>2.159981</td>\n      <td>1</td>\n      <td>1</td>\n      <td>2</td>\n      <td>2</td>\n      <td>0.508926</td>\n      <td>...</td>\n      <td>1.173649</td>\n      <td>-0.518672</td>\n      <td>0</td>\n      <td>0</td>\n      <td>0</td>\n      <td>0</td>\n      <td>0</td>\n      <td>0</td>\n      <td>-1.404137</td>\n      <td>0.192497</td>\n    </tr>\n    <tr>\n      <th>4</th>\n      <td>196536</td>\n      <td>0</td>\n      <td>0</td>\n      <td>-0.726263</td>\n      <td>-0.478479</td>\n      <td>1</td>\n      <td>1</td>\n      <td>2</td>\n      <td>3</td>\n      <td>0.508926</td>\n      <td>...</td>\n      <td>-0.386290</td>\n      <td>0.622064</td>\n      <td>0</td>\n      <td>0</td>\n      <td>0</td>\n      <td>0</td>\n      <td>0</td>\n      <td>0</td>\n      <td>-1.119543</td>\n      <td>-0.871190</td>\n    </tr>\n  </tbody>\n</table>\n<p>5 rows \u00d7 63 columns</p>\n</div>", 
                        "text/plain": "   reservation_id  channel_code  main_product_code  numberofadults  \\\n0            9785             2                  0       -0.726263   \n1            4694             0                  0       -0.726263   \n2          278743             0                  0       -0.726263   \n3          276853             0                  0       -0.726263   \n4          196536             0                  0       -0.726263   \n\n   numberofchildren  persontravellingid  resort_region_code  resort_type_code  \\\n0         -0.478479                   1                   2                 3   \n1         -0.478479                   1                   2                 3   \n2         -0.478479                   2                   0                 5   \n3          2.159981                   1                   1                 2   \n4         -0.478479                   1                   1                 2   \n\n   room_type_booked_code  roomnights    ...     booking_Dayofweek  \\\n0                      2   -1.104595    ...              0.133690   \n1                      3    0.508926    ...              0.653670   \n2                      3    0.105546    ...             -0.386290   \n3                      2    0.508926    ...              1.173649   \n4                      3    0.508926    ...             -0.386290   \n\n   booking_Dayofyear  booking_Is_month_end  booking_Is_month_start  \\\n0          -0.769077                     0                       0   \n1          -1.436825                     0                       0   \n2          -1.390453                     0                       0   \n3          -0.518672                     0                       0   \n4           0.622064                     0                       0   \n\n   booking_Is_quarter_end  booking_Is_quarter_start  booking_Is_year_end  \\\n0                       0                         0                    0   \n1                       0                         0                    0   \n2                       0                         0                    0   \n3                       0                         0                    0   \n4                       0                         0                    0   \n\n   booking_Is_year_start  booking_Elapsed  n_people  \n0                      0         1.069282 -0.871190  \n1                      0        -1.633200 -0.871190  \n2                      0        -1.621631 -0.871190  \n3                      0        -1.404137  0.192497  \n4                      0        -1.119543 -0.871190  \n\n[5 rows x 63 columns]"
                    }, 
                    "output_type": "execute_result"
                }
            ], 
            "source": "# take a look at loaded data\ndf.head()"
        }, 
        {
            "source": "### Validation subset of data", 
            "cell_type": "markdown", 
            "metadata": {}
        }, 
        {
            "source": "We will put aside 20% of data to evaluate the model performance later. \nThe train/valid split will be performed based on `memberid` variable to prevent the data leak (we want to be able to predict the amount spent for the new members of hotels).", 
            "cell_type": "markdown", 
            "metadata": {}
        }, 
        {
            "execution_count": 80, 
            "cell_type": "code", 
            "metadata": {}, 
            "outputs": [
                {
                    "execution_count": 80, 
                    "metadata": {}, 
                    "data": {
                        "text/plain": "((272546, 63), (68878, 63))"
                    }, 
                    "output_type": "execute_result"
                }
            ], 
            "source": "# shuffle data\nrandom.seed(42)\ndf = df.iloc[random.sample(range(len(df)), len(df)), :]\n\n# get groups\ngroups = df[\"memberid\"].values\n\n# get indices for train and validation data\ngroup_shuffle_split = GroupShuffleSplit(n_splits=1, test_size=0.2, random_state=42)\ntrain_idx, valid_idx = next(group_shuffle_split.split(df, groups=groups))\n\n# split data\ntrain_df = df.iloc[train_idx, :]\nvalid_df = df.iloc[valid_idx, :]\n\n# print the dimensions\ntrain_df.shape, valid_df.shape"
        }, 
        {
            "execution_count": 81, 
            "cell_type": "code", 
            "metadata": {}, 
            "outputs": [
                {
                    "execution_count": 81, 
                    "metadata": {}, 
                    "data": {
                        "text/plain": "3159"
                    }, 
                    "output_type": "execute_result"
                }
            ], 
            "source": "valid_df.to_pickle(\"valid_df.pickle\")\n\ndel df\n\ngc.collect()"
        }, 
        {
            "source": "### Train / Test Split", 
            "cell_type": "markdown", 
            "metadata": {}
        }, 
        {
            "source": "Now we split the `train_df` into train and test again for model training and hyperparameter tuning.", 
            "cell_type": "markdown", 
            "metadata": {}
        }, 
        {
            "execution_count": 82, 
            "cell_type": "code", 
            "metadata": {}, 
            "outputs": [
                {
                    "execution_count": 82, 
                    "metadata": {}, 
                    "data": {
                        "text/plain": "((217837, 60), (54709, 60))"
                    }, 
                    "output_type": "execute_result"
                }
            ], 
            "source": "# get groups\ngroups = train_df[\"memberid\"].values\n\n# get indices for train and validation data\ngroup_shuffle_split = GroupShuffleSplit(n_splits=1, test_size=0.2, random_state=42)\n\ntrain_idx, test_idx = next(group_shuffle_split.split(train_df, groups=groups))\n\n# split data\ntrain = train_df.iloc[train_idx, :]\ntest = train_df.iloc[test_idx, :]\ny_train = train['amount_spent_per_room_night_scaled']\ny_test = test['amount_spent_per_room_night_scaled']\n\ntrain.drop(['amount_spent_per_room_night_scaled', 'memberid', 'reservation_id'], axis=1, inplace=True)\ntest.drop(['amount_spent_per_room_night_scaled', 'memberid', 'reservation_id'], axis=1, inplace=True)\ndtypes_dict['category_feats'].remove('memberid')\ndtypes_dict['category_feats'].remove('reservation_id')\n\n\n# print the dimensions\ntrain.shape, test.shape"
        }, 
        {
            "source": "### Baseline Modeling", 
            "cell_type": "markdown", 
            "metadata": {}
        }, 
        {
            "source": "First we will build two baseline models with two most popular machine learning algorithms: Linear Regression and Random Forest.\n\nThe chosen metric for model quality evaluation is Root Mean Squared Error (RMSE).", 
            "cell_type": "markdown", 
            "metadata": {}
        }, 
        {
            "execution_count": 83, 
            "cell_type": "code", 
            "metadata": {}, 
            "outputs": [
                {
                    "output_type": "stream", 
                    "name": "stdout", 
                    "text": "Linear Regression RMSE Score: 0.9296\nCPU times: user 3.14 s, sys: 8.3 s, total: 11.4 s\nWall time: 11.3 s\n"
                }
            ], 
            "source": "%%time\n# define the model\nlr = Ridge(random_state=42)\n# fit the model to the train set\nlr.fit(train, y_train)\n# predict one the test set\nlr_prediction = lr.predict(test)\n\nprint(\"Linear Regression RMSE Score: {:.4f}\".format(np.sqrt(mean_squared_error(y_test, lr_prediction))))"
        }, 
        {
            "execution_count": 84, 
            "cell_type": "code", 
            "metadata": {}, 
            "outputs": [
                {
                    "output_type": "stream", 
                    "name": "stdout", 
                    "text": "Random Forest RMSE Score: 0.9654\nCPU times: user 1min 3s, sys: 0 ns, total: 1min 3s\nWall time: 1min 4s\n"
                }
            ], 
            "source": "%%time\n# define the model\nrf = RandomForestRegressor(n_estimators=10, random_state=42)\n# fit the model to the train set\nrf.fit(train, y_train)\n# predict one the test set\nrf_prediction = rf.predict(test)\n\nprint(\"Random Forest RMSE Score: {:.4f}\".format(np.sqrt(mean_squared_error(y_test, rf_prediction))))"
        }, 
        {
            "source": "Let's now revisit the Linear Regression with **One Hot Encoding (OHE)** applied to categorical variables.", 
            "cell_type": "markdown", 
            "metadata": {}
        }, 
        {
            "execution_count": 85, 
            "cell_type": "code", 
            "metadata": {}, 
            "outputs": [], 
            "source": "# Get indices of categorical features\ncat_columns_idx = [train.columns.get_loc(col) \n                   for col in dtypes_dict['category_feats']]"
        }, 
        {
            "execution_count": 86, 
            "cell_type": "code", 
            "metadata": {}, 
            "outputs": [
                {
                    "output_type": "stream", 
                    "name": "stdout", 
                    "text": "(272546, 143)\n"
                }
            ], 
            "source": "ohe = OneHotEncoder(categorical_features=cat_columns_idx, \n                    sparse=False, handle_unknown=\"ignore\")\n\ntrain = ohe.fit_transform(train_df.drop(['amount_spent_per_room_night_scaled', 'memberid', 'reservation_id'], axis=1))\nvalid = ohe.transform(valid_df.drop(['amount_spent_per_room_night_scaled', 'memberid', 'reservation_id'], axis=1))\n\nprint(train.shape)"
        }, 
        {
            "execution_count": 87, 
            "cell_type": "code", 
            "metadata": {}, 
            "outputs": [
                {
                    "output_type": "stream", 
                    "name": "stdout", 
                    "text": "CPU times: user 50 s, sys: 21.4 s, total: 1min 11s\nWall time: 1min 8s\n"
                }
            ], 
            "source": "%%time\ngkf = list(GroupKFold(n_splits=5).split(train_df, groups=groups))\n\nmodel = RidgeCV(cv=gkf, scoring=\"neg_mean_squared_error\")\n\nmodel.fit(train, train_df['amount_spent_per_room_night_scaled'])"
        }, 
        {
            "execution_count": 88, 
            "cell_type": "code", 
            "metadata": {}, 
            "outputs": [], 
            "source": "valid_score = np.sqrt(mean_squared_error(valid_df['amount_spent_per_room_night_scaled'], model.predict(valid)))"
        }, 
        {
            "execution_count": 91, 
            "cell_type": "code", 
            "metadata": {}, 
            "outputs": [
                {
                    "output_type": "stream", 
                    "name": "stdout", 
                    "text": "Best alpha: 1.0 \nRidge RMSE Validation Score: 0.9157\n"
                }
            ], 
            "source": "print(\"Best alpha: {} \\nRidge RMSE Validation Score: {:.4f}\".format(model.alpha_, valid_score))"
        }
    ], 
    "metadata": {
        "kernelspec": {
            "display_name": "Python 3.5", 
            "name": "python3", 
            "language": "python"
        }, 
        "language_info": {
            "mimetype": "text/x-python", 
            "nbconvert_exporter": "python", 
            "version": "3.5.5", 
            "name": "python", 
            "file_extension": ".py", 
            "pygments_lexer": "ipython3", 
            "codemirror_mode": {
                "version": 3, 
                "name": "ipython"
            }
        }
    }, 
    "nbformat": 4
}