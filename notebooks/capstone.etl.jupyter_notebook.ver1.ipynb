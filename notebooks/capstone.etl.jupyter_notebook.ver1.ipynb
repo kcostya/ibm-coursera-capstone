{
    "nbformat_minor": 1, 
    "cells": [
        {
            "source": "# ETL Notebook", 
            "cell_type": "markdown", 
            "metadata": {}
        }, 
        {
            "source": "The data is provided in CSV (coma separated values) format.", 
            "cell_type": "markdown", 
            "metadata": {}
        }, 
        {
            "execution_count": 1, 
            "cell_type": "code", 
            "metadata": {}, 
            "outputs": [], 
            "source": "import numpy as np # linear algebra\nimport pandas as pd # data processing, CSV file I/O (e.g. pd.read_csv)\nimport pickle\n\nimport types\nfrom botocore.client import Config\nimport ibm_boto3"
        }, 
        {
            "execution_count": 2, 
            "cell_type": "code", 
            "metadata": {}, 
            "outputs": [], 
            "source": "# The code was removed by Watson Studio for sharing."
        }, 
        {
            "source": "Based on the preliminary data exploration we parse dates columns with `dayfirst` parameter set `True`.", 
            "cell_type": "markdown", 
            "metadata": {}
        }, 
        {
            "execution_count": 3, 
            "cell_type": "code", 
            "metadata": {}, 
            "outputs": [], 
            "source": "cos.download_file(Bucket=credentials['BUCKET'], Key='dtypes_dict.pickle', Filename='dtypes_dict.pickle')\n\nwith open('dtypes_dict.pickle', 'rb') as pkl:\n    dtypes_dict = pickle.load(pkl)"
        }, 
        {
            "execution_count": 4, 
            "cell_type": "code", 
            "metadata": {}, 
            "outputs": [
                {
                    "execution_count": 4, 
                    "metadata": {}, 
                    "data": {
                        "text/html": "<div>\n<style scoped>\n    .dataframe tbody tr th:only-of-type {\n        vertical-align: middle;\n    }\n\n    .dataframe tbody tr th {\n        vertical-align: top;\n    }\n\n    .dataframe thead th {\n        text-align: right;\n    }\n</style>\n<table border=\"1\" class=\"dataframe\">\n  <thead>\n    <tr style=\"text-align: right;\">\n      <th></th>\n      <th>reservation_id</th>\n      <th>booking_date</th>\n      <th>checkin_date</th>\n      <th>checkout_date</th>\n      <th>channel_code</th>\n      <th>main_product_code</th>\n      <th>numberofadults</th>\n      <th>numberofchildren</th>\n      <th>persontravellingid</th>\n      <th>resort_region_code</th>\n      <th>...</th>\n      <th>state_code_residence</th>\n      <th>state_code_resort</th>\n      <th>total_pax</th>\n      <th>member_age_buckets</th>\n      <th>booking_type_code</th>\n      <th>memberid</th>\n      <th>cluster_code</th>\n      <th>reservationstatusid_code</th>\n      <th>resort_id</th>\n      <th>amount_spent_per_room_night_scaled</th>\n    </tr>\n  </thead>\n  <tbody>\n    <tr>\n      <th>0</th>\n      <td>07659f3758d8aee27f5a7e2887adeacb67021cb95ada1b...</td>\n      <td>2018-04-05</td>\n      <td>2018-04-05</td>\n      <td>2018-04-06</td>\n      <td>3</td>\n      <td>1</td>\n      <td>2</td>\n      <td>0</td>\n      <td>46</td>\n      <td>3</td>\n      <td>...</td>\n      <td>7.0</td>\n      <td>3</td>\n      <td>3</td>\n      <td>F</td>\n      <td>1</td>\n      <td>3d1539e56495b6991f0a3ef5a61ca3d03ce4fff7380e9a...</td>\n      <td>F</td>\n      <td>C</td>\n      <td>4e07408562bedb8b60ce05c1decfe3ad16b72230967de0...</td>\n      <td>7.706428</td>\n    </tr>\n    <tr>\n      <th>1</th>\n      <td>03930f033646d073462b35d411616323597715ac4fc398...</td>\n      <td>2015-01-23</td>\n      <td>2015-04-11</td>\n      <td>2015-04-16</td>\n      <td>1</td>\n      <td>1</td>\n      <td>2</td>\n      <td>0</td>\n      <td>46</td>\n      <td>3</td>\n      <td>...</td>\n      <td>7.0</td>\n      <td>5</td>\n      <td>2</td>\n      <td>F</td>\n      <td>1</td>\n      <td>3d1539e56495b6991f0a3ef5a61ca3d03ce4fff7380e9a...</td>\n      <td>F</td>\n      <td>A</td>\n      <td>39fa9ec190eee7b6f4dff1100d6343e10918d044c75eac...</td>\n      <td>6.662563</td>\n    </tr>\n    <tr>\n      <th>2</th>\n      <td>d145a32920e6587ad95bfe299d80c0affa268220535aaf...</td>\n      <td>2015-01-28</td>\n      <td>2015-02-01</td>\n      <td>2015-02-05</td>\n      <td>1</td>\n      <td>1</td>\n      <td>2</td>\n      <td>0</td>\n      <td>47</td>\n      <td>1</td>\n      <td>...</td>\n      <td>7.0</td>\n      <td>1</td>\n      <td>2</td>\n      <td>F</td>\n      <td>1</td>\n      <td>3d1539e56495b6991f0a3ef5a61ca3d03ce4fff7380e9a...</td>\n      <td>E</td>\n      <td>A</td>\n      <td>535fa30d7e25dd8a49f1536779734ec8286108d115da50...</td>\n      <td>7.871602</td>\n    </tr>\n    <tr>\n      <th>3</th>\n      <td>cfd77f44811ed62f25a220b53324cdbafc662a4c9e5f04...</td>\n      <td>2015-05-02</td>\n      <td>2015-06-11</td>\n      <td>2015-06-16</td>\n      <td>1</td>\n      <td>1</td>\n      <td>2</td>\n      <td>2</td>\n      <td>46</td>\n      <td>2</td>\n      <td>...</td>\n      <td>7.0</td>\n      <td>2</td>\n      <td>2</td>\n      <td>F</td>\n      <td>1</td>\n      <td>3d1539e56495b6991f0a3ef5a61ca3d03ce4fff7380e9a...</td>\n      <td>D</td>\n      <td>A</td>\n      <td>d4735e3a265e16eee03f59718b9b5d03019c07d8b6c51f...</td>\n      <td>5.344943</td>\n    </tr>\n    <tr>\n      <th>4</th>\n      <td>937cff9e4dcfc2459620153dfc8b9962ac22bea67dfb29...</td>\n      <td>2015-09-02</td>\n      <td>2015-12-14</td>\n      <td>2015-12-19</td>\n      <td>1</td>\n      <td>1</td>\n      <td>2</td>\n      <td>0</td>\n      <td>46</td>\n      <td>2</td>\n      <td>...</td>\n      <td>7.0</td>\n      <td>2</td>\n      <td>2</td>\n      <td>F</td>\n      <td>1</td>\n      <td>3d1539e56495b6991f0a3ef5a61ca3d03ce4fff7380e9a...</td>\n      <td>D</td>\n      <td>A</td>\n      <td>d4735e3a265e16eee03f59718b9b5d03019c07d8b6c51f...</td>\n      <td>7.059346</td>\n    </tr>\n  </tbody>\n</table>\n<p>5 rows \u00d7 24 columns</p>\n</div>", 
                        "text/plain": "                                      reservation_id booking_date  \\\n0  07659f3758d8aee27f5a7e2887adeacb67021cb95ada1b...   2018-04-05   \n1  03930f033646d073462b35d411616323597715ac4fc398...   2015-01-23   \n2  d145a32920e6587ad95bfe299d80c0affa268220535aaf...   2015-01-28   \n3  cfd77f44811ed62f25a220b53324cdbafc662a4c9e5f04...   2015-05-02   \n4  937cff9e4dcfc2459620153dfc8b9962ac22bea67dfb29...   2015-09-02   \n\n  checkin_date checkout_date  channel_code  main_product_code  numberofadults  \\\n0   2018-04-05    2018-04-06             3                  1               2   \n1   2015-04-11    2015-04-16             1                  1               2   \n2   2015-02-01    2015-02-05             1                  1               2   \n3   2015-06-11    2015-06-16             1                  1               2   \n4   2015-12-14    2015-12-19             1                  1               2   \n\n   numberofchildren  persontravellingid  resort_region_code  \\\n0                 0                  46                   3   \n1                 0                  46                   3   \n2                 0                  47                   1   \n3                 2                  46                   2   \n4                 0                  46                   2   \n\n                 ...                  state_code_residence  state_code_resort  \\\n0                ...                                   7.0                  3   \n1                ...                                   7.0                  5   \n2                ...                                   7.0                  1   \n3                ...                                   7.0                  2   \n4                ...                                   7.0                  2   \n\n   total_pax  member_age_buckets  booking_type_code  \\\n0          3                   F                  1   \n1          2                   F                  1   \n2          2                   F                  1   \n3          2                   F                  1   \n4          2                   F                  1   \n\n                                            memberid  cluster_code  \\\n0  3d1539e56495b6991f0a3ef5a61ca3d03ce4fff7380e9a...             F   \n1  3d1539e56495b6991f0a3ef5a61ca3d03ce4fff7380e9a...             F   \n2  3d1539e56495b6991f0a3ef5a61ca3d03ce4fff7380e9a...             E   \n3  3d1539e56495b6991f0a3ef5a61ca3d03ce4fff7380e9a...             D   \n4  3d1539e56495b6991f0a3ef5a61ca3d03ce4fff7380e9a...             D   \n\n  reservationstatusid_code                                          resort_id  \\\n0                        C  4e07408562bedb8b60ce05c1decfe3ad16b72230967de0...   \n1                        A  39fa9ec190eee7b6f4dff1100d6343e10918d044c75eac...   \n2                        A  535fa30d7e25dd8a49f1536779734ec8286108d115da50...   \n3                        A  d4735e3a265e16eee03f59718b9b5d03019c07d8b6c51f...   \n4                        A  d4735e3a265e16eee03f59718b9b5d03019c07d8b6c51f...   \n\n  amount_spent_per_room_night_scaled  \n0                           7.706428  \n1                           6.662563  \n2                           7.871602  \n3                           5.344943  \n4                           7.059346  \n\n[5 rows x 24 columns]"
                    }, 
                    "output_type": "execute_result"
                }
            ], 
            "source": "# load the data and take a look at first 5 rows\ndf = pd.read_csv(body, parse_dates=dtypes_dict['date_feats'], dayfirst=True)\ndf.head()"
        }, 
        {
            "source": "We then save the dataframe to pickle format for further use.", 
            "cell_type": "markdown", 
            "metadata": {}
        }, 
        {
            "execution_count": 5, 
            "cell_type": "code", 
            "metadata": {}, 
            "outputs": [], 
            "source": "# save dataframe to feather format\nwith open('df_raw_pickle.pickle', 'wb') as pkl:\n    pickle.dump(df, pkl, protocol=pickle.HIGHEST_PROTOCOL)\n\n# upload feather object\ncos.upload_file(Filename='df_raw_pickle.pickle', Bucket=credentials['BUCKET'], Key='df_raw_pickle.pickle')"
        }
    ], 
    "metadata": {
        "kernelspec": {
            "display_name": "Python 3.5", 
            "name": "python3", 
            "language": "python"
        }, 
        "language_info": {
            "mimetype": "text/x-python", 
            "nbconvert_exporter": "python", 
            "version": "3.5.5", 
            "name": "python", 
            "file_extension": ".py", 
            "pygments_lexer": "ipython3", 
            "codemirror_mode": {
                "version": 3, 
                "name": "ipython"
            }
        }
    }, 
    "nbformat": 4
}